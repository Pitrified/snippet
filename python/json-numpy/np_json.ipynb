{
 "cells": [
  {
   "cell_type": "code",
   "execution_count": null,
   "metadata": {},
   "outputs": [],
   "source": [
    "from copy import copy\n",
    "from json_numpy import default, object_hook\n",
    "import json\n",
    "import json_numpy as jnp\n",
    "import jsons\n",
    "import numpy as np\n"
   ]
  },
  {
   "cell_type": "code",
   "execution_count": null,
   "metadata": {},
   "outputs": [],
   "source": [
    "from pprint import pprint, pformat\n",
    "\n",
    "\n",
    "def pformat_type(obj) -> str:\n",
    "    return pformat((type(obj), obj))\n",
    "\n",
    "\n",
    "def print_type(obj) -> None:\n",
    "    print(pformat_type(obj))\n"
   ]
  },
  {
   "cell_type": "code",
   "execution_count": null,
   "metadata": {},
   "outputs": [],
   "source": [
    "# a numpy array\n",
    "a = np.array([1, 2, 3, 4, 5])\n",
    "a\n"
   ]
  },
  {
   "cell_type": "code",
   "execution_count": null,
   "metadata": {},
   "outputs": [],
   "source": [
    "# dumping with jsons a np array does not work\n",
    "# jsons.dump(a)\n"
   ]
  },
  {
   "cell_type": "code",
   "execution_count": null,
   "metadata": {},
   "outputs": [],
   "source": [
    "# fails: dump() missing 1 required positional argument: 'fp'\n",
    "# a_jnp = jnp.dump(a)\n",
    "# type(a_jnp), a_jnp\n"
   ]
  },
  {
   "cell_type": "code",
   "execution_count": null,
   "metadata": {},
   "outputs": [],
   "source": [
    "# dumping with json_numpy returns a string\n",
    "a_jnp = jnp.dumps(a)\n",
    "print_type(a_jnp)\n"
   ]
  },
  {
   "cell_type": "code",
   "execution_count": null,
   "metadata": {},
   "outputs": [],
   "source": [
    "# we can reload the string into a numpy array\n",
    "a_jnp_np = jnp.loads(a_jnp)\n",
    "print_type(a_jnp_np)\n"
   ]
  },
  {
   "cell_type": "code",
   "execution_count": null,
   "metadata": {},
   "outputs": [],
   "source": [
    "# we can load the string to turn it into a dict\n",
    "a_jnp_load = json.loads(a_jnp)\n",
    "print_type(a_jnp_load)\n"
   ]
  },
  {
   "cell_type": "code",
   "execution_count": null,
   "metadata": {},
   "outputs": [],
   "source": [
    "# if we want to convert the dict into a numpy\n",
    "# we have to dump it back to string\n",
    "print_type(jnp.loads(json.dumps(a_jnp_load)))\n"
   ]
  },
  {
   "cell_type": "code",
   "execution_count": null,
   "metadata": {},
   "outputs": [],
   "source": [
    "# passing the default json_np func as a serializer does not work\n",
    "# jsons.set_serializer(default, np.ndarray)\n",
    "\n",
    "# ??\n",
    "# jsons.dump(a, default=default)\n",
    "\n",
    "# ??\n",
    "# default_wrap = lambda obj, *_, **__: default(obj)\n",
    "# jsons.dump(a, default=default_wrap)\n"
   ]
  },
  {
   "cell_type": "code",
   "execution_count": null,
   "metadata": {},
   "outputs": [],
   "source": [
    "# a sample class with attributes\n",
    "class Sample:\n",
    "    def __init__(self) -> None:\n",
    "        self.a = 1\n",
    "        self.l = [1, 2, 3]\n",
    "\n",
    "    def __str__(self) -> str:\n",
    "        # return f\"{self.a} {self.l}\"\n",
    "        return f\"{self.a} {pformat_type(self.l)}\"\n",
    "\n",
    "    def __repr__(self) -> str:\n",
    "        return self.__str__()\n",
    "\n",
    "\n",
    "s = Sample()\n"
   ]
  },
  {
   "cell_type": "code",
   "execution_count": null,
   "metadata": {},
   "outputs": [],
   "source": [
    "# jsons works perfectly for this\n",
    "js = jsons.dump(s)  # serialize\n",
    "print_type(js)\n",
    "ls = jsons.load(js, Sample)  # deserialize\n",
    "print_type(ls)\n"
   ]
  },
  {
   "cell_type": "code",
   "execution_count": null,
   "metadata": {},
   "outputs": [],
   "source": [
    "# a sample class with a numpy attribute\n",
    "class SampleNp:\n",
    "    def __init__(self) -> None:\n",
    "        self.a = 1\n",
    "        self.l = [1, 2, 3]\n",
    "        self.npl: np.ndarray = np.array(self.l)\n",
    "\n",
    "    def __str__(self) -> str:\n",
    "        return f\"{self.a} {self.l} {pformat_type(self.npl)}\"\n",
    "\n",
    "    def __repr__(self) -> str:\n",
    "        return self.__str__()\n",
    "\n",
    "\n",
    "snp = SampleNp()\n"
   ]
  },
  {
   "cell_type": "code",
   "execution_count": null,
   "metadata": {},
   "outputs": [],
   "source": [
    "def np_serializer(\n",
    "    obj: np.ndarray,\n",
    "    **kwargs,\n",
    ") -> str:\n",
    "    \"\"\"A serializer for numpy arrays.\"\"\"\n",
    "    print(f\"serializing {obj}\")\n",
    "\n",
    "    return jnp.dumps(obj)\n",
    "\n",
    "    # obj_jnp: str = jnp.dumps(obj)\n",
    "    # return json.loads(obj_jnp)\n",
    "\n",
    "\n",
    "jsons.set_serializer(np_serializer, np.ndarray)\n"
   ]
  },
  {
   "cell_type": "code",
   "execution_count": null,
   "metadata": {},
   "outputs": [],
   "source": [
    "# we can dump with jsons using the custom serializer\n",
    "# which will create a string, but that's ok for serialization\n",
    "a_j = jsons.dump(a)\n",
    "print_type(a_j)\n"
   ]
  },
  {
   "cell_type": "code",
   "execution_count": null,
   "metadata": {},
   "outputs": [],
   "source": [
    "# the custom serializer does work inside the class as is\n",
    "# no need to define a custom serializer for the class\n",
    "snp_j = jsons.dump(snp)\n",
    "print_type(snp_j)\n"
   ]
  },
  {
   "cell_type": "code",
   "execution_count": null,
   "metadata": {},
   "outputs": [],
   "source": [
    "def np_deserializer(\n",
    "    obj: str,\n",
    "    cls: type = np.ndarray,\n",
    "    **kwargs,\n",
    "):\n",
    "    \"\"\"A deserializer for numpy arrays.\"\"\"\n",
    "    print(f\"deserializing ({type(obj)}) {obj}\")\n",
    "    return jnp.loads(obj)\n",
    "\n",
    "\n",
    "jsons.set_deserializer(np_deserializer, np.ndarray)\n"
   ]
  },
  {
   "cell_type": "code",
   "execution_count": null,
   "metadata": {},
   "outputs": [],
   "source": [
    "# we take a string and use jsons to convert it to numpy using json_np internally\n",
    "a_j_load = jsons.load(a_j, np.ndarray)\n",
    "print_type(a_j_load)\n"
   ]
  },
  {
   "cell_type": "code",
   "execution_count": null,
   "metadata": {},
   "outputs": [],
   "source": [
    "# we can load a class, but the numpy array stays a string\n",
    "snp_l = jsons.load(snp_j, SampleNp)\n",
    "print_type(snp_l)\n",
    "\n",
    "# we can patch it manually\n",
    "snp_l.npl = jnp.loads(snp_l.npl)\n",
    "print_type(snp_l)\n"
   ]
  },
  {
   "cell_type": "code",
   "execution_count": null,
   "metadata": {},
   "outputs": [],
   "source": [
    "# we can turn the string into a dict and patch it in the sample_np dump\n",
    "# so that while decoding we can do something like if \"__numpy__\" in obj\n",
    "\n",
    "snp_j_npl_load = json.loads(snp_j[\"npl\"])\n",
    "print_type(snp_j_npl_load)\n",
    "\n",
    "snp_j_copy = copy(snp_j)\n",
    "snp_j_copy[\"npl\"] = snp_j_npl_load\n",
    "print_type(snp_j_copy)\n"
   ]
  },
  {
   "cell_type": "code",
   "execution_count": null,
   "metadata": {},
   "outputs": [],
   "source": [
    "# if we just load it the npl stays a dict\n",
    "snp_l = jsons.load(snp_j_copy, SampleNp)\n",
    "print_type(snp_l)\n"
   ]
  },
  {
   "cell_type": "code",
   "execution_count": null,
   "metadata": {},
   "outputs": [],
   "source": [
    "# if we just load it the npl stays a string\n",
    "snp_l = jsons.load(snp_j, SampleNp)\n",
    "type(snp_l), snp_l.npl\n"
   ]
  },
  {
   "cell_type": "code",
   "execution_count": null,
   "metadata": {},
   "outputs": [],
   "source": [
    "# # a custom deserializer should work but who knows how to implement it\n",
    "# def sample_np_deserializer(\n",
    "#     obj: str,\n",
    "#     cls: type = np.ndarray,\n",
    "#     **kwargs,\n",
    "# ):\n",
    "#     \"\"\"\"\"\"\n",
    "#     print(f\"deserializing ({type(obj)}) {obj}\")\n",
    "#     if isinstance(obj, dict) and \"__numpy__\" in obj:\n",
    "#         # return jnp.loads(obj)\n",
    "#         return jsons.load(obj, np.ndarray)\n",
    "#     return jsons.default_deserializer(obj, cls, **kwargs) ??\n",
    "# jsons.set_deserializer(sample_np_deserializer, SampleNp)\n",
    "# snp_l = jsons.load(snp_j_copy, SampleNp)\n",
    "# type(snp_l), snp_l\n"
   ]
  },
  {
   "cell_type": "code",
   "execution_count": null,
   "metadata": {},
   "outputs": [],
   "source": [
    "# # patch the class after loading\n",
    "# def sample_np_deserializer(\n",
    "#     obj: str,\n",
    "#     cls: type = np.ndarray,\n",
    "#     **kwargs,\n",
    "# ):\n",
    "#     \"\"\"\"\"\"\n",
    "#     print(f\"deserializing ({type(obj)}) {obj}\")\n",
    "#     # sample_np_obj = jsons.load(obj, SampleNp) # duh\n",
    "#     sample_np_obj.npl = jsons.load(sample_np_obj.npl, np.ndarray)\n",
    "#     return sample_np_obj\n",
    "# jsons.set_deserializer(sample_np_deserializer, SampleNp)\n",
    "# snp_l = jsons.load(snp_j, SampleNp)\n",
    "# print_type(snp_l)\n"
   ]
  },
  {
   "cell_type": "code",
   "execution_count": null,
   "metadata": {},
   "outputs": [],
   "source": [
    "def load_sample_np(obj) -> SampleNp:\n",
    "    \"\"\"Load a SampleNp object from an object, then patch the numpy attributes.\"\"\"\n",
    "    snp_l = jsons.load(obj, SampleNp)\n",
    "    # patch it manually\n",
    "    snp_l.npl = jnp.loads(snp_l.npl)\n",
    "    return snp_l\n",
    "\n",
    "snp_l_patch = load_sample_np(snp_j)\n",
    "print_type(snp_l_patch)\n"
   ]
  },
  {
   "cell_type": "code",
   "execution_count": null,
   "metadata": {},
   "outputs": [],
   "source": [
    "# dump the class as a string\n",
    "snp_js = jsons.dumps(snp)\n",
    "print_type(snp_js)\n"
   ]
  },
  {
   "cell_type": "code",
   "execution_count": null,
   "metadata": {},
   "outputs": [],
   "source": [
    "def loads_sample_np(obj_str) -> SampleNp:\n",
    "    \"\"\"Load a SampleNp object from a string, then patch the numpy attributes.\"\"\"\n",
    "    snp_l = jsons.loads(obj_str, SampleNp)\n",
    "    # patch it manually\n",
    "    snp_l.npl = jnp.loads(snp_l.npl)\n",
    "    return snp_l\n",
    "\n",
    "\n",
    "loads_sample_np(snp_js)\n"
   ]
  }
 ],
 "metadata": {
  "kernelspec": {
   "display_name": "py311",
   "language": "python",
   "name": "python3"
  },
  "language_info": {
   "codemirror_mode": {
    "name": "ipython",
    "version": 3
   },
   "file_extension": ".py",
   "mimetype": "text/x-python",
   "name": "python",
   "nbconvert_exporter": "python",
   "pygments_lexer": "ipython3",
   "version": "3.11.2"
  },
  "orig_nbformat": 4
 },
 "nbformat": 4,
 "nbformat_minor": 2
}
