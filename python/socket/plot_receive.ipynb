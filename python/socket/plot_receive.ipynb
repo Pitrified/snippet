{
 "cells": [
  {
   "cell_type": "code",
   "execution_count": null,
   "metadata": {},
   "outputs": [],
   "source": [
    "# https://pythonguides.com/matplotlib-update-plot-in-loop/\n"
   ]
  },
  {
   "cell_type": "code",
   "execution_count": null,
   "metadata": {},
   "outputs": [],
   "source": [
    "import numpy as np\n",
    "import matplotlib.pyplot as plt\n",
    "from IPython.display import display, clear_output\n"
   ]
  },
  {
   "cell_type": "code",
   "execution_count": null,
   "metadata": {},
   "outputs": [],
   "source": [
    "def update_plot(fig, ax, i) -> None:\n",
    "    x = np.linspace(0, i, 100)\n",
    "    y = np.cos(x)\n",
    "    ax.set_xlim(0, i)\n",
    "    ax.cla()\n",
    "    ax.plot(x, y)\n",
    "    display(fig)\n",
    "    clear_output(wait=True)\n",
    "    # plt.pause(0.1)\n"
   ]
  },
  {
   "cell_type": "code",
   "execution_count": null,
   "metadata": {},
   "outputs": [],
   "source": [
    "# # Create figure and subplot\n",
    "# fig, ax = plt.subplots()\n",
    "# # Define and update plot\n",
    "# for i in range(20):\n",
    "#     update_plot(fig, ax, i)\n"
   ]
  },
  {
   "cell_type": "code",
   "execution_count": null,
   "metadata": {},
   "outputs": [],
   "source": [
    "import json\n",
    "from udp_receive_class import UdpSocketReceiver\n",
    "\n",
    "UDP_IP = \"127.0.0.1\"\n",
    "UDP_PORT = 5005\n",
    "\n",
    "fig, ax = plt.subplots()\n",
    "\n",
    "with UdpSocketReceiver(UDP_IP, UDP_PORT) as usr:\n",
    "    for data, addr in usr.receive(1024):\n",
    "        # print(f\"received message: {data}\")\n",
    "        # print(f\"            from: {addr}\")\n",
    "        info = json.loads(data)\n",
    "        # print(info[\"new\"])\n",
    "        update_plot(fig, ax, int(info[\"new\"]))\n"
   ]
  }
 ],
 "metadata": {
  "kernelspec": {
   "display_name": "py311",
   "language": "python",
   "name": "python3"
  },
  "language_info": {
   "codemirror_mode": {
    "name": "ipython",
    "version": 3
   },
   "file_extension": ".py",
   "mimetype": "text/x-python",
   "name": "python",
   "nbconvert_exporter": "python",
   "pygments_lexer": "ipython3",
   "version": "3.11.2"
  },
  "orig_nbformat": 4
 },
 "nbformat": 4,
 "nbformat_minor": 2
}
