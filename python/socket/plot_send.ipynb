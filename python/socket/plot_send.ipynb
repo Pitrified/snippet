{
 "cells": [
  {
   "cell_type": "code",
   "execution_count": null,
   "metadata": {},
   "outputs": [],
   "source": [
    "# https://ipywidgets.readthedocs.io/en/7.6.2/examples/Widget%20Events.html"
   ]
  },
  {
   "cell_type": "code",
   "execution_count": null,
   "metadata": {},
   "outputs": [],
   "source": [
    "# int_slide = widgets.IntSlider(\n",
    "#     value=7,\n",
    "#     min=0,\n",
    "#     max=10,\n",
    "#     step=1,\n",
    "#     description=\"Test:\",\n",
    "#     disabled=False,\n",
    "#     continuous_update=True,\n",
    "#     orientation=\"horizontal\",\n",
    "#     readout=True,\n",
    "#     readout_format=\"d\",\n",
    "# )\n",
    "# int_slide.observe(lambda change: print(change), names=\"value\")\n",
    "# int_slide\n"
   ]
  },
  {
   "cell_type": "code",
   "execution_count": null,
   "metadata": {},
   "outputs": [],
   "source": [
    "from functools import partial\n",
    "import json\n",
    "\n",
    "import ipywidgets as widgets\n",
    "from IPython.display import display\n",
    "\n",
    "from udp_send_class import UdpSocketSender\n",
    "\n",
    "UDP_IP = \"127.0.0.1\"\n",
    "UDP_PORT = 5005\n",
    "\n",
    "\n",
    "def int_slide_cb(change, uss) -> None:\n",
    "    # print(change)\n",
    "    # print(uss.ip, uss.port)\n",
    "    info = {\n",
    "        \"new\": change[\"new\"],\n",
    "        \"old\": change[\"old\"],\n",
    "    }\n",
    "    payload = json.dumps(info)\n",
    "    uss.send(payload)\n",
    "\n",
    "\n",
    "uss = UdpSocketSender(ip=UDP_IP, port=UDP_PORT)\n",
    "\n",
    "int_slide_cb_parz = partial(int_slide_cb, uss=uss)\n",
    "int_slide = widgets.IntSlider(\n",
    "    value=7,\n",
    "    min=0,\n",
    "    max=10,\n",
    "    step=1,\n",
    "    description=\"Test:\",\n",
    "    disabled=False,\n",
    "    continuous_update=True,\n",
    "    orientation=\"horizontal\",\n",
    "    readout=True,\n",
    "    readout_format=\"d\",\n",
    ")\n",
    "int_slide.observe(int_slide_cb_parz, names=\"value\")\n",
    "display(int_slide)\n"
   ]
  },
  {
   "cell_type": "code",
   "execution_count": null,
   "metadata": {},
   "outputs": [],
   "source": [
    "button = widgets.Button(description=\"Quit\")\n",
    "display(button)\n",
    "\n",
    "\n",
    "def on_button_clicked(b, uss: UdpSocketSender) -> None:\n",
    "    uss.quit()\n",
    "\n",
    "\n",
    "on_button_clicked_parz = partial(on_button_clicked, uss=uss)\n",
    "\n",
    "button.on_click(on_button_clicked_parz)\n"
   ]
  }
 ],
 "metadata": {
  "kernelspec": {
   "display_name": "py311",
   "language": "python",
   "name": "python3"
  },
  "language_info": {
   "codemirror_mode": {
    "name": "ipython",
    "version": 3
   },
   "file_extension": ".py",
   "mimetype": "text/x-python",
   "name": "python",
   "nbconvert_exporter": "python",
   "pygments_lexer": "ipython3",
   "version": "3.11.2"
  },
  "orig_nbformat": 4
 },
 "nbformat": 4,
 "nbformat_minor": 2
}
