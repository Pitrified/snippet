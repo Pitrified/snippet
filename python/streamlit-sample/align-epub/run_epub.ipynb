{
 "cells": [
  {
   "cell_type": "code",
   "execution_count": null,
   "metadata": {},
   "outputs": [],
   "source": [
    "%load_ext autoreload\n",
    "%autoreload 2"
   ]
  },
  {
   "cell_type": "markdown",
   "metadata": {},
   "source": [
    "# Test and use the library"
   ]
  },
  {
   "cell_type": "code",
   "execution_count": null,
   "metadata": {},
   "outputs": [],
   "source": [
    "from pathlib import Path\n",
    "\n",
    "from transformers import pipeline\n",
    "import spacy\n",
    "\n",
    "from cached_pipe import PipelineCache\n",
    "from epub import (\n",
    "    EPub,\n",
    "    Chapter,\n",
    ")\n",
    "from utils import (\n",
    "    get_ebook_folder,\n",
    ")\n"
   ]
  },
  {
   "cell_type": "markdown",
   "metadata": {},
   "source": [
    "### Load NLP objeccts"
   ]
  },
  {
   "cell_type": "code",
   "execution_count": null,
   "metadata": {},
   "outputs": [],
   "source": [
    "lts = [\"en\", \"fr\"]\n",
    "lts_pair = list(zip(lts, lts[::-1]))\n",
    "lts, lts_pair\n"
   ]
  },
  {
   "cell_type": "code",
   "execution_count": null,
   "metadata": {},
   "outputs": [],
   "source": [
    "nlp = {\n",
    "    \"en\": spacy.load(\"en_core_web_md\"),\n",
    "    \"fr\": spacy.load(\"fr_core_news_md\"),\n",
    "}\n"
   ]
  },
  {
   "cell_type": "code",
   "execution_count": null,
   "metadata": {},
   "outputs": [],
   "source": [
    "# TODO:\n",
    "# Should export env variables to avoid needing an internet connection.\n"
   ]
  },
  {
   "cell_type": "code",
   "execution_count": null,
   "metadata": {},
   "outputs": [],
   "source": [
    "pipe = {\n",
    "    f\"{lt}_{lt_other}\": pipeline(\"translation\", model=f\"Helsinki-NLP/opus-mt-{lt}-{lt_other}\")\n",
    "    for lt, lt_other in lts_pair\n",
    "}\n"
   ]
  },
  {
   "cell_type": "markdown",
   "metadata": {},
   "source": [
    "## Load cached translator pipeline"
   ]
  },
  {
   "cell_type": "code",
   "execution_count": null,
   "metadata": {},
   "outputs": [],
   "source": [
    "cache_file_path = {\n",
    "    f\"{lt}_{lt_other}\": Path(f\"translated_{lt}_{lt_other}.json\")\n",
    "    for lt, lt_other in lts_pair\n",
    "}\n"
   ]
  },
  {
   "cell_type": "code",
   "execution_count": null,
   "metadata": {},
   "outputs": [],
   "source": [
    "pipe_cache = {\n",
    "    (lt_pair := f\"{lt}_{lt_other}\"): PipelineCache(\n",
    "        pipe[lt_pair], cache_file_path[lt_pair], lt, lt_other\n",
    "    )\n",
    "    for lt, lt_other in lts_pair\n",
    "}\n"
   ]
  },
  {
   "cell_type": "code",
   "execution_count": null,
   "metadata": {},
   "outputs": [],
   "source": [
    "pipe_cache[\"en_fr\"](\"Let's try this cool way to create a callable class.\")\n"
   ]
  },
  {
   "cell_type": "markdown",
   "metadata": {},
   "source": [
    "## Load epubs"
   ]
  },
  {
   "cell_type": "code",
   "execution_count": null,
   "metadata": {},
   "outputs": [],
   "source": [
    "ebook_folder = get_ebook_folder()\n",
    "epub_path = {\n",
    "    \"fr\": ebook_folder / \"Gaston_Leroux_-_Le_Mystere_de_la_chambre_jaune.epub\",\n",
    "    \"en\": ebook_folder / \"mystery_yellow_room.epub\",\n",
    "}\n",
    "print(epub_path)\n"
   ]
  },
  {
   "cell_type": "code",
   "execution_count": null,
   "metadata": {},
   "outputs": [],
   "source": [
    "epub = {lt: EPub(epub_path[lt], nlp, pipe, lt, lt_other) for lt, lt_other in zip(lts, lts[::-1])}\n"
   ]
  },
  {
   "cell_type": "markdown",
   "metadata": {},
   "source": [
    "### Translate a manazza and check for similarity"
   ]
  },
  {
   "cell_type": "code",
   "execution_count": null,
   "metadata": {},
   "outputs": [],
   "source": [
    "sent_fr = epub[\"fr\"].chapters[1].paragraphs[0].sentences[0]\n",
    "sent_fr.text\n"
   ]
  },
  {
   "cell_type": "code",
   "execution_count": null,
   "metadata": {},
   "outputs": [],
   "source": [
    "sent_fr_to_en = pipe[\"fr_en\"](sent_fr.text)\n",
    "sent_fr_to_en\n"
   ]
  },
  {
   "cell_type": "code",
   "execution_count": null,
   "metadata": {},
   "outputs": [],
   "source": [
    "doc_fr_to_en = nlp[\"en\"](sent_fr_to_en[0][\"translation_text\"])\n",
    "print(type(doc_fr_to_en))\n",
    "doc_fr_to_en\n"
   ]
  },
  {
   "cell_type": "code",
   "execution_count": null,
   "metadata": {},
   "outputs": [],
   "source": [
    "sent_en = epub[\"en\"].chapters[0].paragraphs[2].sentences[0]\n",
    "print(type(sent_en))\n",
    "sent_en\n"
   ]
  },
  {
   "cell_type": "code",
   "execution_count": null,
   "metadata": {},
   "outputs": [],
   "source": [
    "doc_fr_to_en.similarity(sent_en)\n"
   ]
  },
  {
   "cell_type": "markdown",
   "metadata": {},
   "source": [
    "### Iterate over sentences"
   ]
  },
  {
   "cell_type": "code",
   "execution_count": null,
   "metadata": {},
   "outputs": [],
   "source": [
    "def iter_sent(chap: Chapter, start_chap: int = 0, end_chap: int = 0):\n",
    "    \"\"\"\"\"\"\n",
    "    if end_chap == 0:\n",
    "        end_chap = len(chap.paragraphs) + 1\n",
    "    for i_p, par in enumerate(chap.paragraphs[start_chap:end_chap]):\n",
    "        for i_s, sent in enumerate(par.sentences):\n",
    "            yield (i_p + start_chap, i_s), sent\n"
   ]
  },
  {
   "cell_type": "code",
   "execution_count": null,
   "metadata": {},
   "outputs": [],
   "source": [
    "for k, sent in iter_sent(epub[\"en\"].chapters[0], 0, 105):\n",
    "    print(k, sent.text)\n"
   ]
  }
 ],
 "metadata": {
  "interpreter": {
   "hash": "44d69056cbf37a415d1103e29d5d1df97d82e2a69c9f4e12d2363bb333fa02eb"
  },
  "kernelspec": {
   "display_name": "Python 3.9.13 ('hug')",
   "language": "python",
   "name": "python3"
  },
  "language_info": {
   "codemirror_mode": {
    "name": "ipython",
    "version": 3
   },
   "file_extension": ".py",
   "mimetype": "text/x-python",
   "name": "python",
   "nbconvert_exporter": "python",
   "pygments_lexer": "ipython3",
   "version": "3.9.13"
  },
  "orig_nbformat": 4
 },
 "nbformat": 4,
 "nbformat_minor": 2
}
