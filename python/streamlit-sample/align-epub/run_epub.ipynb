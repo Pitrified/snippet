{
 "cells": [
  {
   "cell_type": "code",
   "execution_count": null,
   "metadata": {},
   "outputs": [],
   "source": [
    "%load_ext autoreload\n",
    "%autoreload 2"
   ]
  },
  {
   "cell_type": "code",
   "execution_count": null,
   "metadata": {},
   "outputs": [],
   "source": [
    "from pathlib import Path\n",
    "\n",
    "from transformers import pipeline\n",
    "import spacy\n",
    "\n",
    "from epub import EPub\n"
   ]
  },
  {
   "cell_type": "code",
   "execution_count": null,
   "metadata": {},
   "outputs": [],
   "source": [
    "this_file = Path(__name__).absolute()\n",
    "snippet_folder = this_file.parent.parent.parent.parent\n",
    "dataset_folder = snippet_folder / \"datasets\" / \"ebook\"\n",
    "epub_path = {\n",
    "    \"fr\": dataset_folder / \"Gaston_Leroux_-_Le_Mystere_de_la_chambre_jaune.epub\",\n",
    "    \"en\": dataset_folder / \"mystery_yellow_room.epub\",\n",
    "}\n",
    "print(epub_path)\n"
   ]
  },
  {
   "cell_type": "code",
   "execution_count": null,
   "metadata": {},
   "outputs": [],
   "source": [
    "nlp = {\n",
    "    \"en\": spacy.load(\"en_core_web_md\"),\n",
    "    \"fr\": spacy.load(\"fr_core_news_md\"),\n",
    "}\n"
   ]
  },
  {
   "cell_type": "code",
   "execution_count": null,
   "metadata": {},
   "outputs": [],
   "source": [
    "model_checkpoint = \"Helsinki-NLP/opus-mt-fr-en\"\n",
    "pipe_fren = pipeline(\"translation\", model=model_checkpoint)\n"
   ]
  },
  {
   "cell_type": "code",
   "execution_count": null,
   "metadata": {},
   "outputs": [],
   "source": [
    "lts = list(nlp.keys())\n",
    "lts\n"
   ]
  },
  {
   "cell_type": "code",
   "execution_count": null,
   "metadata": {},
   "outputs": [],
   "source": [
    "epub = {lt: EPub(epub_path[lt], nlp[lt]) for lt in lts}\n"
   ]
  },
  {
   "cell_type": "code",
   "execution_count": null,
   "metadata": {},
   "outputs": [],
   "source": [
    "sent_fr = epub[\"fr\"].chapters[1].paragraphs[0].sentences[0]\n",
    "sent_fr.text\n"
   ]
  },
  {
   "cell_type": "code",
   "execution_count": null,
   "metadata": {},
   "outputs": [],
   "source": [
    "sent_fr_to_en = pipe_fren(sent_fr.text)\n",
    "sent_fr_to_en\n"
   ]
  },
  {
   "cell_type": "code",
   "execution_count": null,
   "metadata": {},
   "outputs": [],
   "source": [
    "doc_fr_to_en = nlp[\"en\"](sent_fr_to_en[0][\"translation_text\"])\n",
    "print(type(doc_fr_to_en))\n",
    "doc_fr_to_en\n"
   ]
  },
  {
   "cell_type": "code",
   "execution_count": null,
   "metadata": {},
   "outputs": [],
   "source": [
    "sent_en = epub[\"en\"].chapters[0].paragraphs[2].sentences[0]\n",
    "print(type(sent_en))\n",
    "sent_en\n"
   ]
  },
  {
   "cell_type": "code",
   "execution_count": null,
   "metadata": {},
   "outputs": [],
   "source": [
    "doc_fr_to_en.similarity(sent_en)\n"
   ]
  }
 ],
 "metadata": {
  "interpreter": {
   "hash": "44d69056cbf37a415d1103e29d5d1df97d82e2a69c9f4e12d2363bb333fa02eb"
  },
  "kernelspec": {
   "display_name": "Python 3.9.13 ('hug')",
   "language": "python",
   "name": "python3"
  },
  "language_info": {
   "codemirror_mode": {
    "name": "ipython",
    "version": 3
   },
   "file_extension": ".py",
   "mimetype": "text/x-python",
   "name": "python",
   "nbconvert_exporter": "python",
   "pygments_lexer": "ipython3",
   "version": "3.9.13"
  },
  "orig_nbformat": 4
 },
 "nbformat": 4,
 "nbformat_minor": 2
}
